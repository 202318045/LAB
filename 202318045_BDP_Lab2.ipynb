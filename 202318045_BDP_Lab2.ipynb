{
  "nbformat": 4,
  "nbformat_minor": 0,
  "metadata": {
    "colab": {
      "provenance": []
    },
    "kernelspec": {
      "name": "python3",
      "display_name": "Python 3"
    },
    "language_info": {
      "name": "python"
    }
  },
  "cells": [
    {
      "cell_type": "markdown",
      "source": [
        "Name: Tarun Sagar Mati\n",
        "\n",
        "\n",
        "Student ID: 202318045"
      ],
      "metadata": {
        "id": "68A0wvbbbAOt"
      }
    },
    {
      "cell_type": "code",
      "source": [
        "import numpy as np\n",
        "from sklearn.feature_extraction.text import TfidfVectorizer\n",
        "from sklearn.metrics.pairwise import cosine_similarity\n",
        "from sklearn.datasets import fetch_20newsgroups"
      ],
      "metadata": {
        "id": "THb_TWFuLvAV"
      },
      "execution_count": 1,
      "outputs": []
    },
    {
      "cell_type": "code",
      "source": [
        "# def cosine_simlr(v1, v2): # Tried using this function but gives error dimension mismatch\n",
        "#     prod = np.dot(v1, v2)\n",
        "#     v1n = np.linalg.norm(v1)\n",
        "#     v2n = np.linalg.norm(v2)\n",
        "#     simlr = prod/(v1n*v2n)\n",
        "#     return simlr"
      ],
      "metadata": {
        "id": "mpn-ooGaaT4L"
      },
      "execution_count": 39,
      "outputs": []
    },
    {
      "cell_type": "code",
      "source": [
        "def fit(data):\n",
        "    vec = TfidfVectorizer()  # Had to use direct function since it was complex to understand\n",
        "    A = vec.fit_transform(data)\n",
        "    return A\n",
        "\n",
        "def cosine_simlr(v1, v2):\n",
        "    return cosine_similarity(v1, v2) # Had to use direct function since it was giving error\n",
        "\n",
        "def data_simlr(Subset, Set):  # Set is the whole document ie 20 newgrps dataset,\n",
        "    Set.append(Subset)        # Sunset is just a part which we re comparing\n",
        "    B = fit(Set)\n",
        "    n = len(Set) - 1\n",
        "    S = B[n]\n",
        "    simlr_no = []\n",
        "    for i in range(len(Set) - 1):\n",
        "        similarity = cosine_simlr(S, B[i])\n",
        "        simlr_no.append((i, similarity))    #simlr_no shows how much on a scale of 0 to 1 these docs are similar\n",
        "\n",
        "    simlr_no.sort(key=lambda x: x[1], reverse=True)\n",
        "    Set.pop()\n",
        "    return simlr_no\n",
        "\n",
        "data1 = fetch_20newsgroups(subset='all', remove=('headers', 'footers', 'quotes'))\n",
        "Set = data1.data\n",
        "\n",
        "Subset = data1.data[3]\n",
        "result = data_simlr(Subset, Set)\n",
        "\n",
        "for i in range(10):\n",
        "    index, similarity = result[i]\n",
        "    print(f\"Similarity: \", similarity,\"\\nDocument: \", Set[index][:200],\"\\n\\n\")"
      ],
      "metadata": {
        "colab": {
          "base_uri": "https://localhost:8080/"
        },
        "id": "7lEU6MBPU1ir",
        "outputId": "fe1f65d7-e3c2-4394-8cd6-e9ff2c0a2b1b"
      },
      "execution_count": 38,
      "outputs": [
        {
          "output_type": "stream",
          "name": "stdout",
          "text": [
            "Similarity:  [[1.]] \n",
            "Document:  \n",
            "Think!\n",
            "\n",
            "It's the SCSI card doing the DMA transfers NOT the disks...\n",
            "\n",
            "The SCSI card can do DMA transfers containing data from any of the SCSI devices\n",
            "it is attached when it wants to.\n",
            "\n",
            "An important fea \n",
            "\n",
            "\n",
            "Similarity:  [[0.49180686]] \n",
            "Document:  \n",
            " ^^^^^^^^^^^^\n",
            "How do you do bus-mastering on the ISA bus?\n",
            "\n",
            "\n",
            "If we're talking ISA (AT) bus here, then you can only have 1 DMA channel\n",
            "active at any one time, presumably transferring data from a single \n",
            "\n",
            "\n",
            "Similarity:  [[0.45146947]] \n",
            "Document:  \n",
            "Then don't complain (maybe it wasn't you) that SCSI was so expensive on\n",
            "PC's because all we've had until a year or two ago was the ISA bus.\n",
            "(ie no one buys SCSI for ISA because ISA is slow)\n",
            "Are you s \n",
            "\n",
            "\n",
            "Similarity:  [[0.44728206]] \n",
            "Document:  \n",
            "I have been following this thread and figured I'd throw in my two cents...\n",
            "\n",
            "The Amiga Zorro II bus is comparable with the ISA bus (7.16 vs 8.33 MHZ).\n",
            "The Amiga has had a pre-emptative multi-tasking   \n",
            "\n",
            "\n",
            "Similarity:  [[0.42866369]] \n",
            "Document:  \n",
            "I have two SCSI hard drives, each has 512KB of 'cache'.\n",
            "\n",
            "There several reasons for this :-\n",
            "\n",
            "When the drive has read requested data from the disk the SCSI bus may be\n",
            "busy. This data needs to be stored \n",
            "\n",
            "\n",
            "Similarity:  [[0.42618808]] \n",
            "Document:  To the best of my knowledge there aren't any problems with Quadras and\n",
            "blind transfers.  Trouble with blind transfers usually means the programmer\n",
            "screwed up the TIBs or didn't test their driver with  \n",
            "\n",
            "\n",
            "Similarity:  [[0.41577273]] \n",
            "Document:  : >>point of view, why does SCSI have an advantage when it comes to multi-\n",
            ": >>tasking?  Data is data, and it could be anywhere on the drive.  Can\n",
            ": >>SCSI find it faster?  can it get it off the drive \n",
            "\n",
            "\n",
            "Similarity:  [[0.3935375]] \n",
            "Document:  \n",
            "\n",
            "No.  The simple $25 style IDE controller does not use DMA.  The CPU performs\n",
            "the data transfer with a string move instruction.  This requires that the\n",
            "CPU stop what it had been doing and transfer th \n",
            "\n",
            "\n",
            "Similarity:  [[0.37071619]] \n",
            "Document:  david@c-cat.UUCP (Dave) write:\n",
            "we are talking about a SCSI-1 device (e.g. HD) on a SCSI-2 Controller.\n",
            "\n",
            "Here is a rewrite of my Mac & Info sheet SCSI section:\n",
            "SCSI: only external device expansion inter \n",
            "\n",
            "\n",
            "Similarity:  [[0.36813816]] \n",
            "Document:  You are making the same mistake I did: you are confusing the DRIVE\n",
            "interface to the DATA THROUGHPUT interface.  Again from my Mac & IBM info\n",
            "sheet {available by FTP on sumex-aim.stanford.edu (36.44.0. \n",
            "\n",
            "\n"
          ]
        }
      ]
    }
  ]
}